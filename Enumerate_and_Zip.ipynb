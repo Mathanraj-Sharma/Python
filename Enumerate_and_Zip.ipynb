{
  "nbformat": 4,
  "nbformat_minor": 0,
  "metadata": {
    "colab": {
      "name": "Enumerate_and_Zip.ipynb",
      "version": "0.3.2",
      "provenance": [],
      "include_colab_link": true
    },
    "language_info": {
      "codemirror_mode": {
        "name": "ipython",
        "version": 3
      },
      "file_extension": ".py",
      "mimetype": "text/x-python",
      "name": "python",
      "nbconvert_exporter": "python",
      "pygments_lexer": "ipython3",
      "version": "3.6.7"
    },
    "kernelspec": {
      "display_name": "Python 3",
      "language": "python",
      "name": "python3"
    }
  },
  "cells": [
    {
      "cell_type": "markdown",
      "metadata": {
        "id": "view-in-github",
        "colab_type": "text"
      },
      "source": [
        "<a href=\"https://colab.research.google.com/github/Mathanraj-Sharma/Python/blob/master/Enumerate_and_Zip.ipynb\" target=\"_parent\"><img src=\"https://colab.research.google.com/assets/colab-badge.svg\" alt=\"Open In Colab\"/></a>"
      ]
    },
    {
      "cell_type": "markdown",
      "metadata": {
        "id": "cOCAAHcvH7At",
        "colab_type": "text"
      },
      "source": [
        "# Enumerate and Zip in Python"
      ]
    },
    {
      "cell_type": "code",
      "metadata": {
        "id": "AmUcwailH7Ax",
        "colab_type": "code",
        "colab": {
          "base_uri": "https://localhost:8080/",
          "height": 34
        },
        "outputId": "88787cf0-b444-4798-acf7-db6a322947cb"
      },
      "source": [
        "print('Welcome...!')"
      ],
      "execution_count": 1,
      "outputs": [
        {
          "output_type": "stream",
          "text": [
            "Welcome...!\n"
          ],
          "name": "stdout"
        }
      ]
    },
    {
      "cell_type": "markdown",
      "metadata": {
        "id": "HP3S3SoDIF1U",
        "colab_type": "text"
      },
      "source": [
        "Iterable is an object which can be iterated, Iterator is an object which is iterating an iterable. Simple example for an iterable is list.\n",
        "\n",
        "To be more techniqual, any python object related with iter() method is known as iterable. "
      ]
    },
    {
      "cell_type": "code",
      "metadata": {
        "id": "Bw0IoOoYH7BF",
        "colab_type": "code",
        "colab": {
          "base_uri": "https://localhost:8080/",
          "height": 170
        },
        "outputId": "ad0ad049-b7ed-4586-ced0-7e647ede1705"
      },
      "source": [
        "# Create a list of strings: flash\n",
        "flash = ['jay garrick', 'barry allen', 'wally west', 'bart allen']\n",
        "\n",
        "# Print each list item in flash using a for loop\n",
        "for i in flash:\n",
        "    print(i)\n",
        "\n",
        "print('===================')\n",
        "# Create an iterator for flash: superspeed\n",
        "superspeed = iter(flash)\n",
        "\n",
        "# Print each item from the iterator\n",
        "print(next(superspeed))\n",
        "print(next(superspeed))\n",
        "print(next(superspeed))\n",
        "print(next(superspeed))"
      ],
      "execution_count": 2,
      "outputs": [
        {
          "output_type": "stream",
          "text": [
            "jay garrick\n",
            "barry allen\n",
            "wally west\n",
            "bart allen\n",
            "===================\n",
            "jay garrick\n",
            "barry allen\n",
            "wally west\n",
            "bart allen\n"
          ],
          "name": "stdout"
        }
      ]
    },
    {
      "cell_type": "markdown",
      "metadata": {
        "id": "_Jfksp4bH7BM",
        "colab_type": "text"
      },
      "source": [
        "### Enumerate"
      ]
    },
    {
      "cell_type": "markdown",
      "metadata": {
        "id": "dP5ms4k9H7BO",
        "colab_type": "text"
      },
      "source": [
        "Enumerate is a function in python which takes list as an argument and returns the list values with their indexes as tuples. "
      ]
    },
    {
      "cell_type": "code",
      "metadata": {
        "id": "7LSyHpjeH7BQ",
        "colab_type": "code",
        "colab": {
          "base_uri": "https://localhost:8080/",
          "height": 34
        },
        "outputId": "7e6e2a19-429f-4c39-84d8-ae330b59c263"
      },
      "source": [
        "# Create a list of strings: mutants\n",
        "mutants = ['charles xavier', \n",
        "           'bobby drake', \n",
        "            'kurt wagner', \n",
        "            'max eisenhardt', \n",
        "            'kitty pryde']\n",
        "\n",
        "# Create a list of tuples: mutant_list\n",
        "mutant_list = list(enumerate(mutants,0))\n",
        "\n",
        "# Print the list of tuples\n",
        "print(mutant_list)"
      ],
      "execution_count": 3,
      "outputs": [
        {
          "output_type": "stream",
          "text": [
            "[(0, 'charles xavier'), (1, 'bobby drake'), (2, 'kurt wagner'), (3, 'max eisenhardt'), (4, 'kitty pryde')]\n"
          ],
          "name": "stdout"
        }
      ]
    },
    {
      "cell_type": "code",
      "metadata": {
        "id": "cDcj3bRNH7BV",
        "colab_type": "code",
        "colab": {
          "base_uri": "https://localhost:8080/",
          "height": 102
        },
        "outputId": "8a14fb74-8692-4315-9c84-a943a4b83171"
      },
      "source": [
        "# Unpack and print the tuple pairs\n",
        "for index1, value1 in enumerate(mutants):\n",
        "    print(index1, value1) "
      ],
      "execution_count": 4,
      "outputs": [
        {
          "output_type": "stream",
          "text": [
            "0 charles xavier\n",
            "1 bobby drake\n",
            "2 kurt wagner\n",
            "3 max eisenhardt\n",
            "4 kitty pryde\n"
          ],
          "name": "stdout"
        }
      ]
    },
    {
      "cell_type": "markdown",
      "metadata": {
        "id": "w9wDbTkqH7Ba",
        "colab_type": "text"
      },
      "source": [
        "enumarete(list, index = 0), as shown enumerate function takes two argument, the second argument tells from which number the indexing has to be done.\n",
        "\n",
        "lets try, strating our index from 1"
      ]
    },
    {
      "cell_type": "code",
      "metadata": {
        "id": "gxIujeI9H7Bc",
        "colab_type": "code",
        "colab": {
          "base_uri": "https://localhost:8080/",
          "height": 102
        },
        "outputId": "478e9bfc-9110-4875-b131-1a360c813185"
      },
      "source": [
        "# Change the start index\n",
        "for index2, value2 in enumerate(mutants,1):\n",
        "    print(index2, value2)"
      ],
      "execution_count": 5,
      "outputs": [
        {
          "output_type": "stream",
          "text": [
            "1 charles xavier\n",
            "2 bobby drake\n",
            "3 kurt wagner\n",
            "4 max eisenhardt\n",
            "5 kitty pryde\n"
          ],
          "name": "stdout"
        }
      ]
    },
    {
      "cell_type": "markdown",
      "metadata": {
        "id": "cosWRYleH7Bk",
        "colab_type": "text"
      },
      "source": [
        "### Zip"
      ]
    },
    {
      "cell_type": "markdown",
      "metadata": {
        "id": "twHhgfsEH7Bl",
        "colab_type": "text"
      },
      "source": [
        "Zip function gets arbitery number of same sized lists, combine them and return as tuples."
      ]
    },
    {
      "cell_type": "code",
      "metadata": {
        "id": "0fsw0kcGH7Bn",
        "colab_type": "code",
        "colab": {
          "base_uri": "https://localhost:8080/",
          "height": 34
        },
        "outputId": "b35fe5b7-66e7-43da-ea43-c6a6fcd0b8e3"
      },
      "source": [
        "student = ['John', 'Bob', 'alis', 'drek']\n",
        "degree = ['bachelor','Masters', 'bachelor', 'Masters']\n",
        "field = ['Computing', 'Physics', 'Business','Computing']\n",
        "\n",
        "# Create a list of tuples: student_data\n",
        "student_data = list(zip(student, degree, field))\n",
        "\n",
        "# Print the list of tuples\n",
        "print(student_data)"
      ],
      "execution_count": 6,
      "outputs": [
        {
          "output_type": "stream",
          "text": [
            "[('John', 'bachelor', 'Computing'), ('Bob', 'Masters', 'Physics'), ('alis', 'bachelor', 'Business'), ('drek', 'Masters', 'Computing')]\n"
          ],
          "name": "stdout"
        }
      ]
    },
    {
      "cell_type": "code",
      "metadata": {
        "id": "BExETV26H7Bu",
        "colab_type": "code",
        "colab": {
          "base_uri": "https://localhost:8080/",
          "height": 34
        },
        "outputId": "5d9e1bb7-7098-4eed-e59a-0e79f7b09638"
      },
      "source": [
        "# Create a zip object using the three lists: student_zip\n",
        "student_zip = zip(student, degree, field)\n",
        "\n",
        "# Print the zip object\n",
        "print(student_zip)"
      ],
      "execution_count": 7,
      "outputs": [
        {
          "output_type": "stream",
          "text": [
            "<zip object at 0x7fd78b215b48>\n"
          ],
          "name": "stdout"
        }
      ]
    },
    {
      "cell_type": "code",
      "metadata": {
        "id": "bkHfNcE5H7B5",
        "colab_type": "code",
        "colab": {
          "base_uri": "https://localhost:8080/",
          "height": 85
        },
        "outputId": "cda1b2cb-9518-44f2-9ddb-016e30d8aac9"
      },
      "source": [
        "# Unpack the zip object and print the tuple values\n",
        "for value1, value2, value3 in student_zip:\n",
        "    print(value1, value2, value3)"
      ],
      "execution_count": 8,
      "outputs": [
        {
          "output_type": "stream",
          "text": [
            "John bachelor Computing\n",
            "Bob Masters Physics\n",
            "alis bachelor Business\n",
            "drek Masters Computing\n"
          ],
          "name": "stdout"
        }
      ]
    },
    {
      "cell_type": "code",
      "metadata": {
        "id": "YDbpAr9YH7CA",
        "colab_type": "code",
        "colab": {
          "base_uri": "https://localhost:8080/",
          "height": 34
        },
        "outputId": "1d3e8a4c-1ebd-41c0-8ce8-46b3127c6a81"
      },
      "source": [
        "print('Happy Coding..!')"
      ],
      "execution_count": 9,
      "outputs": [
        {
          "output_type": "stream",
          "text": [
            "Happy Coding..!\n"
          ],
          "name": "stdout"
        }
      ]
    },
    {
      "cell_type": "markdown",
      "metadata": {
        "id": "xRn2k1Q1H7CG",
        "colab_type": "text"
      },
      "source": [
        "Happy Coding...!"
      ]
    },
    {
      "cell_type": "code",
      "metadata": {
        "id": "4OgHl4UxIQKS",
        "colab_type": "code",
        "colab": {}
      },
      "source": [
        ""
      ],
      "execution_count": 0,
      "outputs": []
    }
  ]
}