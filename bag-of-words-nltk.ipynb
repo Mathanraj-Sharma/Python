{
 "cells": [
  {
   "cell_type": "code",
   "execution_count": 24,
   "metadata": {},
   "outputs": [
    {
     "name": "stderr",
     "output_type": "stream",
     "text": [
      "[nltk_data] Downloading package punkt to /home/mr/nltk_data...\n",
      "[nltk_data]   Package punkt is already up-to-date!\n",
      "[nltk_data] Downloading package stopwords to /home/mr/nltk_data...\n",
      "[nltk_data]   Package stopwords is already up-to-date!\n",
      "[nltk_data] Downloading package wordnet to /home/mr/nltk_data...\n",
      "[nltk_data]   Unzipping corpora/wordnet.zip.\n"
     ]
    },
    {
     "data": {
      "text/plain": [
       "True"
      ]
     },
     "execution_count": 24,
     "metadata": {},
     "output_type": "execute_result"
    }
   ],
   "source": [
    "from nltk.stem import WordNetLemmatizer\n",
    "from nltk.tokenize import word_tokenize\n",
    "from nltk.corpus import stopwords\n",
    "from collections import Counter\n",
    "\n",
    "import nltk\n",
    "nltk.download('punkt')\n",
    "nltk.download('stopwords')\n",
    "nltk.download('wordnet')"
   ]
  },
  {
   "cell_type": "code",
   "execution_count": 15,
   "metadata": {},
   "outputs": [],
   "source": [
    "paragraph = \"As a pet, cat is a very useful animal and helps in protecting or saving our rashan from rats.\\\n",
    "The offspring of a cat is called as kitten, it is a smaller and a cuter version of a cat. Cat has got four thin, \\\n",
    "short and sturdy limbs that helps it in walking, running and jumping for long distances.\\\n",
    "It's bright eyes help it in seeing long distances and also help during the dark. Cats are found all over the world. There is no place without a cat. Sometimes a cat can be mistaken for a tiger cub,\\\n",
    "because of its extreme similarities with it.A cat's body is completely covered with soft and beautiful fur. \\\n",
    "Cats make meaw meaw sound. God has provided cats with soft shoes or pads, \\\n",
    "which help a cat in walking without making a sound.\""
   ]
  },
  {
   "cell_type": "code",
   "execution_count": 16,
   "metadata": {},
   "outputs": [
    {
     "name": "stdout",
     "output_type": "stream",
     "text": [
      "As a pet, cat is a very useful animal and helps in protecting or saving our rashan from rats.The offspring of a cat is called as kitten, it is a smaller and a cuter version of a cat. Cat has got four thin, short and sturdy limbs that helps it in walking, running and jumping for long distances.It's bright eyes help it in seeing long distances and also help during the dark. Cats are found all over the world. There is no place without a cat. Sometimes a cat can be mistaken for a tiger cub,because of its extreme similarities with it.A cat's body is completely covered with soft and beautiful fur. Cats make meaw meaw sound. God has provided cats with soft shoes or pads, which help a cat in walking without making a sound.\n"
     ]
    }
   ],
   "source": [
    "print(paragraph)"
   ]
  },
  {
   "cell_type": "code",
   "execution_count": 17,
   "metadata": {},
   "outputs": [
    {
     "name": "stdout",
     "output_type": "stream",
     "text": [
      "['As', 'a', 'pet', ',', 'cat', 'is', 'a', 'very', 'useful', 'animal', 'and', 'helps', 'in', 'protecting', 'or', 'saving', 'our', 'rashan', 'from', 'rats.The', 'offspring', 'of', 'a', 'cat', 'is', 'called', 'as', 'kitten', ',', 'it', 'is', 'a', 'smaller', 'and', 'a', 'cuter', 'version', 'of', 'a', 'cat', '.', 'Cat', 'has', 'got', 'four', 'thin', ',', 'short', 'and', 'sturdy', 'limbs', 'that', 'helps', 'it', 'in', 'walking', ',', 'running', 'and', 'jumping', 'for', 'long', 'distances.It', \"'s\", 'bright', 'eyes', 'help', 'it', 'in', 'seeing', 'long', 'distances', 'and', 'also', 'help', 'during', 'the', 'dark', '.', 'Cats', 'are', 'found', 'all', 'over', 'the', 'world', '.', 'There', 'is', 'no', 'place', 'without', 'a', 'cat', '.', 'Sometimes', 'a', 'cat', 'can', 'be', 'mistaken', 'for', 'a', 'tiger', 'cub', ',', 'because', 'of', 'its', 'extreme', 'similarities', 'with', 'it.A', 'cat', \"'s\", 'body', 'is', 'completely', 'covered', 'with', 'soft', 'and', 'beautiful', 'fur', '.', 'Cats', 'make', 'meaw', 'meaw', 'sound', '.', 'God', 'has', 'provided', 'cats', 'with', 'soft', 'shoes', 'or', 'pads', ',', 'which', 'help', 'a', 'cat', 'in', 'walking', 'without', 'making', 'a', 'sound', '.']\n"
     ]
    }
   ],
   "source": [
    "# tokenize the paragraph using word_tokenize,return tokens\n",
    "tokens = word_tokenize(paragraph)\n",
    "print(tokens)"
   ]
  },
  {
   "cell_type": "code",
   "execution_count": 18,
   "metadata": {},
   "outputs": [
    {
     "name": "stdout",
     "output_type": "stream",
     "text": [
      "['as', 'a', 'pet', ',', 'cat', 'is', 'a', 'very', 'useful', 'animal', 'and', 'helps', 'in', 'protecting', 'or', 'saving', 'our', 'rashan', 'from', 'rats.the', 'offspring', 'of', 'a', 'cat', 'is', 'called', 'as', 'kitten', ',', 'it', 'is', 'a', 'smaller', 'and', 'a', 'cuter', 'version', 'of', 'a', 'cat', '.', 'cat', 'has', 'got', 'four', 'thin', ',', 'short', 'and', 'sturdy', 'limbs', 'that', 'helps', 'it', 'in', 'walking', ',', 'running', 'and', 'jumping', 'for', 'long', 'distances.it', \"'s\", 'bright', 'eyes', 'help', 'it', 'in', 'seeing', 'long', 'distances', 'and', 'also', 'help', 'during', 'the', 'dark', '.', 'cats', 'are', 'found', 'all', 'over', 'the', 'world', '.', 'there', 'is', 'no', 'place', 'without', 'a', 'cat', '.', 'sometimes', 'a', 'cat', 'can', 'be', 'mistaken', 'for', 'a', 'tiger', 'cub', ',', 'because', 'of', 'its', 'extreme', 'similarities', 'with', 'it.a', 'cat', \"'s\", 'body', 'is', 'completely', 'covered', 'with', 'soft', 'and', 'beautiful', 'fur', '.', 'cats', 'make', 'meaw', 'meaw', 'sound', '.', 'god', 'has', 'provided', 'cats', 'with', 'soft', 'shoes', 'or', 'pads', ',', 'which', 'help', 'a', 'cat', 'in', 'walking', 'without', 'making', 'a', 'sound', '.']\n"
     ]
    }
   ],
   "source": [
    "# change the tokens to lower case\n",
    "lower_tokens = [token.lower() for token in tokens]\n",
    "print(lower_tokens)"
   ]
  },
  {
   "cell_type": "code",
   "execution_count": 19,
   "metadata": {},
   "outputs": [
    {
     "name": "stdout",
     "output_type": "stream",
     "text": [
      "['as', 'a', 'pet', 'cat', 'is', 'a', 'very', 'useful', 'animal', 'and', 'helps', 'in', 'protecting', 'or', 'saving', 'our', 'rashan', 'from', 'offspring', 'of', 'a', 'cat', 'is', 'called', 'as', 'kitten', 'it', 'is', 'a', 'smaller', 'and', 'a', 'cuter', 'version', 'of', 'a', 'cat', 'cat', 'has', 'got', 'four', 'thin', 'short', 'and', 'sturdy', 'limbs', 'that', 'helps', 'it', 'in', 'walking', 'running', 'and', 'jumping', 'for', 'long', 'bright', 'eyes', 'help', 'it', 'in', 'seeing', 'long', 'distances', 'and', 'also', 'help', 'during', 'the', 'dark', 'cats', 'are', 'found', 'all', 'over', 'the', 'world', 'there', 'is', 'no', 'place', 'without', 'a', 'cat', 'sometimes', 'a', 'cat', 'can', 'be', 'mistaken', 'for', 'a', 'tiger', 'cub', 'because', 'of', 'its', 'extreme', 'similarities', 'with', 'cat', 'body', 'is', 'completely', 'covered', 'with', 'soft', 'and', 'beautiful', 'fur', 'cats', 'make', 'meaw', 'meaw', 'sound', 'god', 'has', 'provided', 'cats', 'with', 'soft', 'shoes', 'or', 'pads', 'which', 'help', 'a', 'cat', 'in', 'walking', 'without', 'making', 'a', 'sound']\n"
     ]
    }
   ],
   "source": [
    "# Retain alphabetic words: alpha_only, eliminate punctions and special characters\n",
    "alpha_only = [t for t in lower_tokens if t.isalpha()]\n",
    "print(alpha_only)"
   ]
  },
  {
   "cell_type": "code",
   "execution_count": 21,
   "metadata": {},
   "outputs": [
    {
     "name": "stdout",
     "output_type": "stream",
     "text": [
      "['pet', 'cat', 'useful', 'animal', 'helps', 'protecting', 'saving', 'rashan', 'offspring', 'cat', 'called', 'kitten', 'smaller', 'cuter', 'version', 'cat', 'cat', 'got', 'four', 'thin', 'short', 'sturdy', 'limbs', 'helps', 'walking', 'running', 'jumping', 'long', 'bright', 'eyes', 'help', 'seeing', 'long', 'distances', 'also', 'help', 'dark', 'cats', 'found', 'world', 'place', 'without', 'cat', 'sometimes', 'cat', 'mistaken', 'tiger', 'cub', 'extreme', 'similarities', 'cat', 'body', 'completely', 'covered', 'soft', 'beautiful', 'fur', 'cats', 'make', 'meaw', 'meaw', 'sound', 'god', 'provided', 'cats', 'soft', 'shoes', 'pads', 'help', 'cat', 'walking', 'without', 'making', 'sound']\n"
     ]
    }
   ],
   "source": [
    "#remove all stop words\n",
    "stop_words = set(stopwords.words('english'))\n",
    "filtered_tokens = [token for token in alpha_only if not token in stop_words]\n",
    "\n",
    "print(filtered_tokens)"
   ]
  },
  {
   "cell_type": "code",
   "execution_count": 25,
   "metadata": {},
   "outputs": [
    {
     "name": "stdout",
     "output_type": "stream",
     "text": [
      "['pet', 'cat', 'useful', 'animal', 'help', 'protecting', 'saving', 'rashan', 'offspring', 'cat', 'called', 'kitten', 'smaller', 'cuter', 'version', 'cat', 'cat', 'got', 'four', 'thin', 'short', 'sturdy', 'limb', 'help', 'walking', 'running', 'jumping', 'long', 'bright', 'eye', 'help', 'seeing', 'long', 'distance', 'also', 'help', 'dark', 'cat', 'found', 'world', 'place', 'without', 'cat', 'sometimes', 'cat', 'mistaken', 'tiger', 'cub', 'extreme', 'similarity', 'cat', 'body', 'completely', 'covered', 'soft', 'beautiful', 'fur', 'cat', 'make', 'meaw', 'meaw', 'sound', 'god', 'provided', 'cat', 'soft', 'shoe', 'pad', 'help', 'cat', 'walking', 'without', 'making', 'sound']\n"
     ]
    }
   ],
   "source": [
    "# lemmatize the words to bring them to their root form\n",
    "wordnet_lemmatizer = WordNetLemmatizer()\n",
    "lemmatized_tokens = [wordnet_lemmatizer.lemmatize(token) for token in filtered_tokens]\n",
    "\n",
    "print(lemmatized_tokens)"
   ]
  },
  {
   "cell_type": "code",
   "execution_count": 26,
   "metadata": {},
   "outputs": [
    {
     "name": "stdout",
     "output_type": "stream",
     "text": [
      "Counter({'cat': 11, 'help': 5, 'walking': 2, 'long': 2, 'without': 2, 'soft': 2, 'meaw': 2, 'sound': 2, 'pet': 1, 'useful': 1, 'animal': 1, 'protecting': 1, 'saving': 1, 'rashan': 1, 'offspring': 1, 'called': 1, 'kitten': 1, 'smaller': 1, 'cuter': 1, 'version': 1, 'got': 1, 'four': 1, 'thin': 1, 'short': 1, 'sturdy': 1, 'limb': 1, 'running': 1, 'jumping': 1, 'bright': 1, 'eye': 1, 'seeing': 1, 'distance': 1, 'also': 1, 'dark': 1, 'found': 1, 'world': 1, 'place': 1, 'sometimes': 1, 'mistaken': 1, 'tiger': 1, 'cub': 1, 'extreme': 1, 'similarity': 1, 'body': 1, 'completely': 1, 'covered': 1, 'beautiful': 1, 'fur': 1, 'make': 1, 'god': 1, 'provided': 1, 'shoe': 1, 'pad': 1, 'making': 1})\n"
     ]
    }
   ],
   "source": [
    "# create bag of words\n",
    "bag_of_words = Counter(lemmatized_tokens)\n",
    "\n",
    "print(bag_of_words)"
   ]
  },
  {
   "cell_type": "code",
   "execution_count": 27,
   "metadata": {},
   "outputs": [
    {
     "name": "stdout",
     "output_type": "stream",
     "text": [
      "[('cat', 11), ('help', 5), ('walking', 2), ('long', 2), ('without', 2)]\n"
     ]
    }
   ],
   "source": [
    "# print the top 5 most common words\n",
    "print(bag_of_words.most_common(5))"
   ]
  },
  {
   "cell_type": "code",
   "execution_count": null,
   "metadata": {},
   "outputs": [],
   "source": [
    "#hooo hooo you have created the bag of words!!!"
   ]
  }
 ],
 "metadata": {
  "kernelspec": {
   "display_name": "Python 3",
   "language": "python",
   "name": "python3"
  },
  "language_info": {
   "codemirror_mode": {
    "name": "ipython",
    "version": 3
   },
   "file_extension": ".py",
   "mimetype": "text/x-python",
   "name": "python",
   "nbconvert_exporter": "python",
   "pygments_lexer": "ipython3",
   "version": "3.7.3"
  }
 },
 "nbformat": 4,
 "nbformat_minor": 4
}
